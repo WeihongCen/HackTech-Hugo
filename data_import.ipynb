{
 "cells": [
  {
   "cell_type": "code",
   "execution_count": null,
   "metadata": {},
   "outputs": [],
   "source": [
    "import pandas as pd\n",
    "import os\n",
    "from supabase import create_client, Client\n",
    "from dotenv import load_dotenv\n",
    "load_dotenv()\n",
    "\n",
    "SUPABASE_URL = os.getenv(\"SUPABASE_URL\")\n",
    "SUPABASE_KEY = os.getenv(\"SUPABASE_KEY\")\n",
    "supabase: Client = create_client(SUPABASE_URL, SUPABASE_KEY)"
   ]
  },
  {
   "cell_type": "code",
   "execution_count": 7,
   "metadata": {},
   "outputs": [],
   "source": [
    "# Folder path\n",
    "csv_folder = \"hugo_data_samples\"\n",
    "\n",
    "# Loop through all CSV files\n",
    "for filename in os.listdir(csv_folder):\n",
    "    if filename.endswith(\".csv\"):\n",
    "        csv_path = os.path.join(csv_folder, filename)\n",
    "        csv_name = os.path.splitext(filename)[0]\n",
    "        \n",
    "        # Read CSV\n",
    "        df = pd.read_csv(csv_path)\n",
    "\n",
    "        # Build CREATE TABLE SQL\n",
    "        columns_sql = []\n",
    "        for col_name, dtype in zip(df.columns, df.dtypes):\n",
    "            if pd.api.types.is_integer_dtype(dtype):\n",
    "                sql_type = \"INTEGER\"\n",
    "            elif pd.api.types.is_float_dtype(dtype):\n",
    "                sql_type = \"FLOAT\"\n",
    "            elif pd.api.types.is_bool_dtype(dtype):\n",
    "                sql_type = \"BOOLEAN\"\n",
    "            else:\n",
    "                sql_type = \"TEXT\"\n",
    "            columns_sql.append(f'\"{col_name}\" {sql_type}')\n",
    "\n",
    "        columns_sql_string = \", \".join(columns_sql)\n",
    "        create_table_sql = f\"\"\"\n",
    "            CREATE TABLE IF NOT EXISTS \"{csv_name}\" (\n",
    "                id SERIAL PRIMARY KEY,\n",
    "                {columns_sql_string}\n",
    "            );\n",
    "        \"\"\"\n",
    "\n",
    "        # Execute SQL\n",
    "        response = supabase.rpc('execute_sql', {'sql': create_table_sql}).execute()"
   ]
  }
 ],
 "metadata": {
  "kernelspec": {
   "display_name": ".venv",
   "language": "python",
   "name": "python3"
  },
  "language_info": {
   "codemirror_mode": {
    "name": "ipython",
    "version": 3
   },
   "file_extension": ".py",
   "mimetype": "text/x-python",
   "name": "python",
   "nbconvert_exporter": "python",
   "pygments_lexer": "ipython3",
   "version": "3.12.4"
  }
 },
 "nbformat": 4,
 "nbformat_minor": 5
}
