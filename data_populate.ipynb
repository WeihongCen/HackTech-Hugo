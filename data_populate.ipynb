{
 "cells": [
  {
   "cell_type": "code",
   "execution_count": null,
   "id": "2df974c6",
   "metadata": {},
   "outputs": [],
   "source": [
    "import os\n",
    "import csv\n",
    "import json\n",
    "import collections\n",
    "from openai import OpenAI\n",
    "from supabase import create_client\n",
    "from pydantic import BaseModel\n",
    "from typing import Union\n",
    "from dotenv import load_dotenv\n",
    "\n",
    "# Load environment variables\n",
    "load_dotenv()\n",
    "SUPABASE_URL = os.getenv(\"SUPABASE_URL\")\n",
    "SUPABASE_KEY = os.getenv(\"SUPABASE_KEY\")\n",
    "\n",
    "client_supabase = create_client(SUPABASE_URL, SUPABASE_KEY)\n",
    "client_openai = OpenAI()"
   ]
  },
  {
   "cell_type": "code",
   "execution_count": 2,
   "id": "e42bba04",
   "metadata": {},
   "outputs": [],
   "source": [
    "SCHEMA_DESCRIPTION = \"\"\"\n",
    "We have a procurement database with the following tables:\n",
    "\n",
    "**Table 1: dispatch_parameters**\n",
    "Description: This table contains information about the minimum stock levels, reorder quantities, and reorder intervals for different parts.\n",
    "Columns:\n",
    "- part_id\n",
    "- min_stock_level\n",
    "- reorder_quantity\n",
    "- reorder_interval_days\n",
    "\n",
    "**Table 2: material_master**\n",
    "Description: This table provides detailed information about each part, including its name, type, models it is used in, dimensions, weight, and any related parts.\n",
    "Columns:\n",
    "- part_id\n",
    "- part_name\n",
    "- part_type\n",
    "- used_in_models\n",
    "- dimensions\n",
    "- weight\n",
    "- blocked_parts\n",
    "- successor_parts\n",
    "- comment\n",
    "\n",
    "**Table 3: material_orders**\n",
    "Description: This table records purchase orders for parts, including order details, supplier information, and delivery status.\n",
    "Columns:\n",
    "- order_id\n",
    "- part_id\n",
    "- quantity_ordered\n",
    "- order_date\n",
    "- expected_delivery_date\n",
    "- supplier_id\n",
    "- status\n",
    "- actual_delivered_at\n",
    "\n",
    "**Table 4: sales_orders**\n",
    "Description: This table contains information about sales orders, including the model, version, quantity, order type, and dates related to the order process.\n",
    "Columns:\n",
    "- sales_order_id\n",
    "- model\n",
    "- version\n",
    "- quantity\n",
    "- order_type\n",
    "- requested_date\n",
    "- created_at\n",
    "- accepted_request_date\n",
    "\n",
    "**Table 5: stock_levels**\n",
    "Description: This table provides the current inventory levels of parts in different warehouse locations.\n",
    "Columns:\n",
    "- part_id\n",
    "- part_name\n",
    "- location\n",
    "- quantity_available\n",
    "\n",
    "**Table 6: stock_movements**\n",
    "Description: This table records transactions related to inventory movements, including inbound and outbound quantities.\n",
    "Columns:\n",
    "- date\n",
    "- part_id\n",
    "- type\n",
    "- quantity\n",
    "\n",
    "**Table 7: suppliers**\n",
    "Description: This table contains information about suppliers, including pricing, lead times, minimum order quantities, and reliability ratings for different parts.\n",
    "Columns:\n",
    "- supplier_id\n",
    "- part_id\n",
    "- price_per_unit\n",
    "- lead_time_days\n",
    "- min_order_qty\n",
    "- reliability_rating\n",
    "\n",
    "**Table 7: specs**\n",
    "Description: This table contains information about the required parts to assemble a product, including the part name and the quantity required.\n",
    "Columns:\n",
    "- product_id\n",
    "- product_name\n",
    "- part_id\n",
    "- quantity\n",
    "\"\"\""
   ]
  },
  {
   "cell_type": "code",
   "execution_count": 1,
   "id": "9618f997",
   "metadata": {},
   "outputs": [
    {
     "name": "stdout",
     "output_type": "stream",
     "text": [
      "From: logistics@supA.com\n",
      "To: warehouse_manager@voltway.co\n",
      "Subject: Delay on O5007 – S1 V1 500W Brushless Motor\n",
      "Date: 2025-03-18 09:24\n",
      "\n",
      "Hi Team,\n",
      "\n",
      "I’m writing to let you know that Purchase Order **O5007** (S1 V1 500W Brushless Motor, part P300) is now delayed.  \n",
      "Our production line experienced a tooling issue last week, so the expected delivery date has shifted from **2025-03-20** to **2025-04-05**.\n",
      "\n",
      "We apologize for the inconvenience—this is the first time we’ve had a delay of this length.  \n",
      "Please let me know if you need any interim stock or partial shipment.\n",
      "\n",
      "Best,  \n",
      "Ana Torres  \n",
      "Supply Chain Coordinator  \n",
      "SupA\n",
      "\n"
     ]
    }
   ],
   "source": [
    "from file_reader import read_eml\n",
    "\n",
    "with open('hugo_data_samples/emails/email_001_Delay_on_O5007_S1_V1_500W_Brushless_Motor.eml', 'rb') as file_obj:\n",
    "    read = read_eml(file_obj)\n",
    "    print(read)"
   ]
  },
  {
   "cell_type": "code",
   "execution_count": 65,
   "id": "1cc39f55",
   "metadata": {},
   "outputs": [],
   "source": [
    "def read_csv(filepath):\n",
    "    with open(filepath, mode=\"r\", newline='', encoding=\"utf-8\") as file:\n",
    "        reader = csv.DictReader(file)\n",
    "        return f\"{json.dumps(list(reader))}\""
   ]
  },
  {
   "cell_type": "code",
   "execution_count": 67,
   "id": "ae9395fa",
   "metadata": {},
   "outputs": [],
   "source": [
    "rows = read_csv(\"hugo_data_samples/dispatch_parameters.csv\")"
   ]
  },
  {
   "cell_type": "code",
   "execution_count": null,
   "id": "340df367",
   "metadata": {},
   "outputs": [],
   "source": [
    "class Column(BaseModel):\n",
    "    column_name: str\n",
    "    value: Union[str, int, float, None]\n",
    "\n",
    "class Row(BaseModel):\n",
    "    table_name: str\n",
    "    columns: list[Column]\n",
    "\n",
    "class Response(BaseModel):\n",
    "    rows: list[Row]\n",
    "\n",
    "prompt = f\"\"\"\n",
    "{SCHEMA_DESCRIPTION}\n",
    "\n",
    "Here is the input data:\n",
    "{json.dumps(rows)}\n",
    "\"\"\"\n",
    "\n",
    "completion = client_openai.beta.chat.completions.parse(\n",
    "    model=\"gpt-4.1-2025-04-14\",\n",
    "    response_format=Response,\n",
    "    messages=[\n",
    "        {\n",
    "            \"role\": \"system\", \n",
    "            \"content\": \n",
    "            \"\"\"\n",
    "            You are a procurement assistant. Decide the schema rows to edit,\n",
    "            using provided schema description and input data.\n",
    "            In addition, determine the columns to edit and their values.\n",
    "            \"\"\"\n",
    "        },\n",
    "        {\n",
    "            \"role\": \"user\",\n",
    "            \"content\": prompt\n",
    "        }\n",
    "    ]\n",
    ")\n",
    "\n",
    "result = completion.choices[0].message.parsed"
   ]
  },
  {
   "cell_type": "code",
   "execution_count": 64,
   "id": "59741bc4",
   "metadata": {},
   "outputs": [],
   "source": [
    "FOREIGN_KEYS = {\"part_id\": \"material_master\"}\n",
    "\n",
    "def verify_foreign_key(foreign_key, rows):\n",
    "    foreign_keys = set()\n",
    "    for row in rows:\n",
    "        if foreign_key in row:\n",
    "            foreign_keys.add(row[foreign_key])\n",
    "    \n",
    "    if not foreign_keys:\n",
    "        return set()\n",
    "    \n",
    "    response = client_supabase.table(FOREIGN_KEYS[foreign_key]).select(foreign_key).in_(foreign_key, list(foreign_keys)).execute()\n",
    "    \n",
    "    existing_keys = set()\n",
    "    if response.data:\n",
    "        existing_keys = {item[foreign_key] for item in response.data}\n",
    "\n",
    "    missing_keys = foreign_keys - existing_keys\n",
    "    missing_data = [{foreign_key: key} for key in missing_keys]\n",
    "\n",
    "    response = client_supabase.table(FOREIGN_KEYS[foreign_key]).insert(missing_data).execute()\n",
    "    \n",
    "\n",
    "def upsert(rows):\n",
    "    tables = collections.defaultdict(list)\n",
    "    for row in rows:\n",
    "        data = {}\n",
    "        for column in row.columns:\n",
    "            data[column.column_name] = column.value\n",
    "        tables[row.table_name].append(data)\n",
    "\n",
    "\n",
    "    for table_name, data in tables.items():\n",
    "        for foreign_key in FOREIGN_KEYS:\n",
    "            verify_foreign_key(foreign_key, data)\n",
    "        client_supabase.table(table_name).upsert(data).execute()\n",
    "\n",
    "upsert(result.rows)"
   ]
  },
  {
   "cell_type": "code",
   "execution_count": 61,
   "id": "a3171939",
   "metadata": {},
   "outputs": [
    {
     "data": {
      "text/plain": [
       "[Row(table_name='dispatch_parameters', columns=[Column(column_name='part_id', value='P300'), Column(column_name='min_stock_level', value=63), Column(column_name='reorder_quantity', value=79), Column(column_name='reorder_interval_days', value=18)]),\n",
       " Row(table_name='dispatch_parameters', columns=[Column(column_name='part_id', value='P301'), Column(column_name='min_stock_level', value=39), Column(column_name='reorder_quantity', value=54), Column(column_name='reorder_interval_days', value=13)]),\n",
       " Row(table_name='dispatch_parameters', columns=[Column(column_name='part_id', value='P302'), Column(column_name='min_stock_level', value=41), Column(column_name='reorder_quantity', value=146), Column(column_name='reorder_interval_days', value=13)]),\n",
       " Row(table_name='dispatch_parameters', columns=[Column(column_name='part_id', value='P303'), Column(column_name='min_stock_level', value=79), Column(column_name='reorder_quantity', value=124), Column(column_name='reorder_interval_days', value=15)]),\n",
       " Row(table_name='dispatch_parameters', columns=[Column(column_name='part_id', value='P304'), Column(column_name='min_stock_level', value=45), Column(column_name='reorder_quantity', value=119), Column(column_name='reorder_interval_days', value=14)]),\n",
       " Row(table_name='dispatch_parameters', columns=[Column(column_name='part_id', value='P305'), Column(column_name='min_stock_level', value=75), Column(column_name='reorder_quantity', value=62), Column(column_name='reorder_interval_days', value=7)]),\n",
       " Row(table_name='dispatch_parameters', columns=[Column(column_name='part_id', value='P306'), Column(column_name='min_stock_level', value=25), Column(column_name='reorder_quantity', value=66), Column(column_name='reorder_interval_days', value=18)]),\n",
       " Row(table_name='dispatch_parameters', columns=[Column(column_name='part_id', value='P307'), Column(column_name='min_stock_level', value=52), Column(column_name='reorder_quantity', value=187), Column(column_name='reorder_interval_days', value=8)]),\n",
       " Row(table_name='dispatch_parameters', columns=[Column(column_name='part_id', value='P308'), Column(column_name='min_stock_level', value=30), Column(column_name='reorder_quantity', value=58), Column(column_name='reorder_interval_days', value=10)]),\n",
       " Row(table_name='dispatch_parameters', columns=[Column(column_name='part_id', value='P309'), Column(column_name='min_stock_level', value=49), Column(column_name='reorder_quantity', value=193), Column(column_name='reorder_interval_days', value=17)]),\n",
       " Row(table_name='dispatch_parameters', columns=[Column(column_name='part_id', value='P310'), Column(column_name='min_stock_level', value=77), Column(column_name='reorder_quantity', value=30), Column(column_name='reorder_interval_days', value=9)]),\n",
       " Row(table_name='dispatch_parameters', columns=[Column(column_name='part_id', value='P311'), Column(column_name='min_stock_level', value=37), Column(column_name='reorder_quantity', value=59), Column(column_name='reorder_interval_days', value=12)]),\n",
       " Row(table_name='dispatch_parameters', columns=[Column(column_name='part_id', value='P312'), Column(column_name='min_stock_level', value=50), Column(column_name='reorder_quantity', value=77), Column(column_name='reorder_interval_days', value=16)]),\n",
       " Row(table_name='dispatch_parameters', columns=[Column(column_name='part_id', value='P313'), Column(column_name='min_stock_level', value=72), Column(column_name='reorder_quantity', value=42), Column(column_name='reorder_interval_days', value=8)]),\n",
       " Row(table_name='dispatch_parameters', columns=[Column(column_name='part_id', value='P314'), Column(column_name='min_stock_level', value=70), Column(column_name='reorder_quantity', value=74), Column(column_name='reorder_interval_days', value=11)]),\n",
       " Row(table_name='dispatch_parameters', columns=[Column(column_name='part_id', value='P315'), Column(column_name='min_stock_level', value=79), Column(column_name='reorder_quantity', value=66), Column(column_name='reorder_interval_days', value=8)]),\n",
       " Row(table_name='dispatch_parameters', columns=[Column(column_name='part_id', value='P316'), Column(column_name='min_stock_level', value=32), Column(column_name='reorder_quantity', value=145), Column(column_name='reorder_interval_days', value=9)]),\n",
       " Row(table_name='dispatch_parameters', columns=[Column(column_name='part_id', value='P317'), Column(column_name='min_stock_level', value=55), Column(column_name='reorder_quantity', value=78), Column(column_name='reorder_interval_days', value=8)]),\n",
       " Row(table_name='dispatch_parameters', columns=[Column(column_name='part_id', value='P318'), Column(column_name='min_stock_level', value=71), Column(column_name='reorder_quantity', value=199), Column(column_name='reorder_interval_days', value=9)]),\n",
       " Row(table_name='dispatch_parameters', columns=[Column(column_name='part_id', value='P319'), Column(column_name='min_stock_level', value=74), Column(column_name='reorder_quantity', value=109), Column(column_name='reorder_interval_days', value=10)]),\n",
       " Row(table_name='dispatch_parameters', columns=[Column(column_name='part_id', value='P320'), Column(column_name='min_stock_level', value=67), Column(column_name='reorder_quantity', value=88), Column(column_name='reorder_interval_days', value=10)]),\n",
       " Row(table_name='dispatch_parameters', columns=[Column(column_name='part_id', value='P321'), Column(column_name='min_stock_level', value=18), Column(column_name='reorder_quantity', value=155), Column(column_name='reorder_interval_days', value=8)]),\n",
       " Row(table_name='dispatch_parameters', columns=[Column(column_name='part_id', value='P322'), Column(column_name='min_stock_level', value=50), Column(column_name='reorder_quantity', value=148), Column(column_name='reorder_interval_days', value=21)]),\n",
       " Row(table_name='dispatch_parameters', columns=[Column(column_name='part_id', value='P323'), Column(column_name='min_stock_level', value=71), Column(column_name='reorder_quantity', value=165), Column(column_name='reorder_interval_days', value=9)]),\n",
       " Row(table_name='dispatch_parameters', columns=[Column(column_name='part_id', value='P324'), Column(column_name='min_stock_level', value=25), Column(column_name='reorder_quantity', value=183), Column(column_name='reorder_interval_days', value=11)]),\n",
       " Row(table_name='dispatch_parameters', columns=[Column(column_name='part_id', value='P325'), Column(column_name='min_stock_level', value=56), Column(column_name='reorder_quantity', value=121), Column(column_name='reorder_interval_days', value=21)]),\n",
       " Row(table_name='dispatch_parameters', columns=[Column(column_name='part_id', value='P326'), Column(column_name='min_stock_level', value=19), Column(column_name='reorder_quantity', value=132), Column(column_name='reorder_interval_days', value=17)]),\n",
       " Row(table_name='dispatch_parameters', columns=[Column(column_name='part_id', value='P327'), Column(column_name='min_stock_level', value=56), Column(column_name='reorder_quantity', value=111), Column(column_name='reorder_interval_days', value=12)]),\n",
       " Row(table_name='dispatch_parameters', columns=[Column(column_name='part_id', value='P328'), Column(column_name='min_stock_level', value=49), Column(column_name='reorder_quantity', value=144), Column(column_name='reorder_interval_days', value=19)]),\n",
       " Row(table_name='dispatch_parameters', columns=[Column(column_name='part_id', value='P329'), Column(column_name='min_stock_level', value=74), Column(column_name='reorder_quantity', value=126), Column(column_name='reorder_interval_days', value=16)]),\n",
       " Row(table_name='dispatch_parameters', columns=[Column(column_name='part_id', value='P330'), Column(column_name='min_stock_level', value=44), Column(column_name='reorder_quantity', value=155), Column(column_name='reorder_interval_days', value=11)]),\n",
       " Row(table_name='dispatch_parameters', columns=[Column(column_name='part_id', value='P331'), Column(column_name='min_stock_level', value=62), Column(column_name='reorder_quantity', value=43), Column(column_name='reorder_interval_days', value=13)]),\n",
       " Row(table_name='dispatch_parameters', columns=[Column(column_name='part_id', value='P332'), Column(column_name='min_stock_level', value=30), Column(column_name='reorder_quantity', value=93), Column(column_name='reorder_interval_days', value=9)]),\n",
       " Row(table_name='dispatch_parameters', columns=[Column(column_name='part_id', value='P333'), Column(column_name='min_stock_level', value=64), Column(column_name='reorder_quantity', value=92), Column(column_name='reorder_interval_days', value=21)]),\n",
       " Row(table_name='dispatch_parameters', columns=[Column(column_name='part_id', value='P334'), Column(column_name='min_stock_level', value=33), Column(column_name='reorder_quantity', value=148), Column(column_name='reorder_interval_days', value=9)]),\n",
       " Row(table_name='dispatch_parameters', columns=[Column(column_name='part_id', value='P335'), Column(column_name='min_stock_level', value=60), Column(column_name='reorder_quantity', value=66), Column(column_name='reorder_interval_days', value=10)]),\n",
       " Row(table_name='dispatch_parameters', columns=[Column(column_name='part_id', value='P336'), Column(column_name='min_stock_level', value=16), Column(column_name='reorder_quantity', value=64), Column(column_name='reorder_interval_days', value=9)]),\n",
       " Row(table_name='dispatch_parameters', columns=[Column(column_name='part_id', value='P337'), Column(column_name='min_stock_level', value=20), Column(column_name='reorder_quantity', value=89), Column(column_name='reorder_interval_days', value=11)]),\n",
       " Row(table_name='dispatch_parameters', columns=[Column(column_name='part_id', value='P338'), Column(column_name='min_stock_level', value=15), Column(column_name='reorder_quantity', value=104), Column(column_name='reorder_interval_days', value=8)])]"
      ]
     },
     "execution_count": 61,
     "metadata": {},
     "output_type": "execute_result"
    }
   ],
   "source": [
    "result.rows"
   ]
  },
  {
   "cell_type": "code",
   "execution_count": 51,
   "id": "ab3d5b4a",
   "metadata": {},
   "outputs": [
    {
     "name": "stdout",
     "output_type": "stream",
     "text": [
      "[{'part_id': 'P300', 'min_stock_level': 63, 'reorder_quantity': 79, 'reorder_interval_days': 18}, {'part_id': 'P301', 'min_stock_level': 39, 'reorder_quantity': 54, 'reorder_interval_days': 13}, {'part_id': 'P302', 'min_stock_level': 41, 'reorder_quantity': 146, 'reorder_interval_days': 13}, {'part_id': 'P303', 'min_stock_level': 79, 'reorder_quantity': 124, 'reorder_interval_days': 15}, {'part_id': 'P304', 'min_stock_level': 45, 'reorder_quantity': 119, 'reorder_interval_days': 14}, {'part_id': 'P305', 'min_stock_level': 75, 'reorder_quantity': 62, 'reorder_interval_days': 7}, {'part_id': 'P306', 'min_stock_level': 25, 'reorder_quantity': 66, 'reorder_interval_days': 18}, {'part_id': 'P307', 'min_stock_level': 52, 'reorder_quantity': 187, 'reorder_interval_days': 8}, {'part_id': 'P308', 'min_stock_level': 30, 'reorder_quantity': 58, 'reorder_interval_days': 10}, {'part_id': 'P309', 'min_stock_level': 49, 'reorder_quantity': 193, 'reorder_interval_days': 17}, {'part_id': 'P310', 'min_stock_level': 77, 'reorder_quantity': 30, 'reorder_interval_days': 9}, {'part_id': 'P311', 'min_stock_level': 37, 'reorder_quantity': 59, 'reorder_interval_days': 12}, {'part_id': 'P312', 'min_stock_level': 50, 'reorder_quantity': 77, 'reorder_interval_days': 16}, {'part_id': 'P313', 'min_stock_level': 72, 'reorder_quantity': 42, 'reorder_interval_days': 8}, {'part_id': 'P314', 'min_stock_level': 70, 'reorder_quantity': 74, 'reorder_interval_days': 11}, {'part_id': 'P315', 'min_stock_level': 79, 'reorder_quantity': 66, 'reorder_interval_days': 8}, {'part_id': 'P316', 'min_stock_level': 32, 'reorder_quantity': 145, 'reorder_interval_days': 9}, {'part_id': 'P317', 'min_stock_level': 55, 'reorder_quantity': 78, 'reorder_interval_days': 8}, {'part_id': 'P318', 'min_stock_level': 71, 'reorder_quantity': 199, 'reorder_interval_days': 9}, {'part_id': 'P319', 'min_stock_level': 74, 'reorder_quantity': 109, 'reorder_interval_days': 10}, {'part_id': 'P320', 'min_stock_level': 67, 'reorder_quantity': 88, 'reorder_interval_days': 10}, {'part_id': 'P321', 'min_stock_level': 18, 'reorder_quantity': 155, 'reorder_interval_days': 8}, {'part_id': 'P322', 'min_stock_level': 50, 'reorder_quantity': 148, 'reorder_interval_days': 21}, {'part_id': 'P323', 'min_stock_level': 71, 'reorder_quantity': 165, 'reorder_interval_days': 9}, {'part_id': 'P324', 'min_stock_level': 25, 'reorder_quantity': 183, 'reorder_interval_days': 11}, {'part_id': 'P325', 'min_stock_level': 56, 'reorder_quantity': 121, 'reorder_interval_days': 21}, {'part_id': 'P326', 'min_stock_level': 19, 'reorder_quantity': 132, 'reorder_interval_days': 17}, {'part_id': 'P327', 'min_stock_level': 56, 'reorder_quantity': 111, 'reorder_interval_days': 12}, {'part_id': 'P328', 'min_stock_level': 49, 'reorder_quantity': 144, 'reorder_interval_days': 19}, {'part_id': 'P329', 'min_stock_level': 74, 'reorder_quantity': 126, 'reorder_interval_days': 16}, {'part_id': 'P330', 'min_stock_level': 44, 'reorder_quantity': 155, 'reorder_interval_days': 11}, {'part_id': 'P331', 'min_stock_level': 62, 'reorder_quantity': 43, 'reorder_interval_days': 13}, {'part_id': 'P332', 'min_stock_level': 30, 'reorder_quantity': 93, 'reorder_interval_days': 9}, {'part_id': 'P333', 'min_stock_level': 64, 'reorder_quantity': 92, 'reorder_interval_days': 21}, {'part_id': 'P334', 'min_stock_level': 33, 'reorder_quantity': 148, 'reorder_interval_days': 9}, {'part_id': 'P335', 'min_stock_level': 60, 'reorder_quantity': 66, 'reorder_interval_days': 10}, {'part_id': 'P336', 'min_stock_level': 16, 'reorder_quantity': 64, 'reorder_interval_days': 9}, {'part_id': 'P337', 'min_stock_level': 20, 'reorder_quantity': 89, 'reorder_interval_days': 11}, {'part_id': 'P338', 'min_stock_level': 15, 'reorder_quantity': 104, 'reorder_interval_days': 8}]\n"
     ]
    }
   ],
   "source": [
    "tables = collections.defaultdict(list)\n",
    "for row in result.rows:\n",
    "    data = {}\n",
    "    for column in row.columns:\n",
    "        data[column.column_name] = column.value\n",
    "    tables[row.table_name].append(data)\n",
    "\n",
    "for table, data in tables.items():\n",
    "    print(data)"
   ]
  },
  {
   "cell_type": "code",
   "execution_count": null,
   "id": "1095f711",
   "metadata": {},
   "outputs": [
    {
     "ename": "APIError",
     "evalue": "{'code': '23503', 'details': 'Key (part_id)=(1) is not present in table \"material_master\".', 'hint': None, 'message': 'insert or update on table \"dispatch_parameters\" violates foreign key constraint \"dispatch_parameters_part_id_fkey\"'}",
     "output_type": "error",
     "traceback": [
      "\u001b[31m---------------------------------------------------------------------------\u001b[39m",
      "\u001b[31mAPIError\u001b[39m                                  Traceback (most recent call last)",
      "\u001b[36mCell\u001b[39m\u001b[36m \u001b[39m\u001b[32mIn[19]\u001b[39m\u001b[32m, line 5\u001b[39m\n\u001b[32m      1\u001b[39m data = [\n\u001b[32m      2\u001b[39m     {\u001b[33m\"\u001b[39m\u001b[33mpart_id\u001b[39m\u001b[33m\"\u001b[39m: \u001b[33m\"\u001b[39m\u001b[33m1\u001b[39m\u001b[33m\"\u001b[39m}\n\u001b[32m      3\u001b[39m ]\n\u001b[32m----> \u001b[39m\u001b[32m5\u001b[39m response = \u001b[43mclient_supabase\u001b[49m\u001b[43m.\u001b[49m\u001b[43mtable\u001b[49m\u001b[43m(\u001b[49m\u001b[33;43m\"\u001b[39;49m\u001b[33;43mdispatch_parameters\u001b[39;49m\u001b[33;43m\"\u001b[39;49m\u001b[43m)\u001b[49m\u001b[43m.\u001b[49m\u001b[43mupsert\u001b[49m\u001b[43m(\u001b[49m\u001b[43mdata\u001b[49m\u001b[43m)\u001b[49m\u001b[43m.\u001b[49m\u001b[43mexecute\u001b[49m\u001b[43m(\u001b[49m\u001b[43m)\u001b[49m\n",
      "\u001b[36mFile \u001b[39m\u001b[32mc:\\Users\\William\\Documents\\GitHub\\HackTech-Hugo\\.venv\\Lib\\site-packages\\postgrest\\_sync\\request_builder.py:78\u001b[39m, in \u001b[36mSyncQueryRequestBuilder.execute\u001b[39m\u001b[34m(self)\u001b[39m\n\u001b[32m     76\u001b[39m         \u001b[38;5;28;01mreturn\u001b[39;00m APIResponse[_ReturnT].from_http_request_response(r)\n\u001b[32m     77\u001b[39m     \u001b[38;5;28;01melse\u001b[39;00m:\n\u001b[32m---> \u001b[39m\u001b[32m78\u001b[39m         \u001b[38;5;28;01mraise\u001b[39;00m APIError(r.json())\n\u001b[32m     79\u001b[39m \u001b[38;5;28;01mexcept\u001b[39;00m ValidationError \u001b[38;5;28;01mas\u001b[39;00m e:\n\u001b[32m     80\u001b[39m     \u001b[38;5;28;01mraise\u001b[39;00m APIError(r.json()) \u001b[38;5;28;01mfrom\u001b[39;00m\u001b[38;5;250m \u001b[39m\u001b[34;01me\u001b[39;00m\n",
      "\u001b[31mAPIError\u001b[39m: {'code': '23503', 'details': 'Key (part_id)=(1) is not present in table \"material_master\".', 'hint': None, 'message': 'insert or update on table \"dispatch_parameters\" violates foreign key constraint \"dispatch_parameters_part_id_fkey\"'}"
     ]
    }
   ],
   "source": [
    "data = [\n",
    "    {\"part_id\": \"1\"}\n",
    "]\n",
    "response = client_supabase.table(\"dispatch_parameters\").upsert(data).execute()"
   ]
  },
  {
   "cell_type": "code",
   "execution_count": 14,
   "id": "d321bad8",
   "metadata": {},
   "outputs": [
    {
     "name": "stdout",
     "output_type": "stream",
     "text": [
      "dispatch_parameters\n",
      "[Column(column_name='part_id', value='P300'), Column(column_name='min_stock_level', value=63), Column(column_name='reorder_quantity', value=79), Column(column_name='reorder_interval_days', value=18)]\n"
     ]
    }
   ],
   "source": [
    "for row in result.rows[0:1]:\n",
    "    print(row.table_name)\n",
    "    print(row.columns)"
   ]
  }
 ],
 "metadata": {
  "kernelspec": {
   "display_name": ".venv",
   "language": "python",
   "name": "python3"
  },
  "language_info": {
   "codemirror_mode": {
    "name": "ipython",
    "version": 3
   },
   "file_extension": ".py",
   "mimetype": "text/x-python",
   "name": "python",
   "nbconvert_exporter": "python",
   "pygments_lexer": "ipython3",
   "version": "3.12.4"
  }
 },
 "nbformat": 4,
 "nbformat_minor": 5
}
