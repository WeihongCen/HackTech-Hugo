{
 "cells": [
  {
   "cell_type": "code",
   "execution_count": 16,
   "id": "b47aec9b",
   "metadata": {},
   "outputs": [
    {
     "data": {
      "text/plain": [
       "True"
      ]
     },
     "execution_count": 16,
     "metadata": {},
     "output_type": "execute_result"
    }
   ],
   "source": [
    "from langchain.agents.agent_types import AgentType\n",
    "from langchain_experimental.agents.agent_toolkits import create_pandas_dataframe_agent\n",
    "from langchain_openai import ChatOpenAI\n",
    "import pandas as pd\n",
    "import dotenv\n",
    "import os\n",
    "dotenv.load_dotenv()"
   ]
  },
  {
   "cell_type": "code",
   "execution_count": 22,
   "metadata": {},
   "outputs": [],
   "source": [
    "folder_path = 'hugo_data_samples'\n",
    "dfs = []\n",
    "for filename in os.listdir(folder_path):\n",
    "    if filename.endswith('.csv'):\n",
    "        file_path = os.path.join(folder_path, filename)\n",
    "        df = pd.read_csv(file_path)\n",
    "        dfs.append(df)"
   ]
  },
  {
   "cell_type": "code",
   "execution_count": 25,
   "id": "5d5a8a05",
   "metadata": {},
   "outputs": [
    {
     "name": "stdout",
     "output_type": "stream",
     "text": [
      "\n",
      "\n",
      "\u001b[1m> Entering new AgentExecutor chain...\u001b[0m\n",
      "\u001b[32;1m\u001b[1;3mBased on the provided data, here are the descriptions and column names for each dataframe:\n",
      "\n",
      "**Table 1: Inventory Management**\n",
      "Description: This table contains information about the minimum stock levels, reorder quantities, and reorder intervals for different parts.\n",
      "Columns:\n",
      "- part_id\n",
      "- min_stock_level\n",
      "- reorder_quantity\n",
      "- reorder_interval_days\n",
      "\n",
      "**Table 2: Part Details**\n",
      "Description: This table provides detailed information about each part, including its name, type, models it is used in, dimensions, weight, and any related parts.\n",
      "Columns:\n",
      "- part_id\n",
      "- part_name\n",
      "- part_type\n",
      "- used_in_models\n",
      "- dimensions\n",
      "- weight\n",
      "- blocked_parts\n",
      "- successor_parts\n",
      "- comment\n",
      "\n",
      "**Table 3: Purchase Orders**\n",
      "Description: This table records purchase orders for parts, including order details, supplier information, and delivery status.\n",
      "Columns:\n",
      "- order_id\n",
      "- part_id\n",
      "- quantity_ordered\n",
      "- order_date\n",
      "- expected_delivery_date\n",
      "- supplier_id\n",
      "- status\n",
      "- actual_delivered_at\n",
      "\n",
      "**Table 4: Sales Orders**\n",
      "Description: This table contains information about sales orders, including the model, version, quantity, order type, and dates related to the order process.\n",
      "Columns:\n",
      "- sales_order_id\n",
      "- model\n",
      "- version\n",
      "- quantity\n",
      "- order_type\n",
      "- requested_date\n",
      "- created_at\n",
      "- accepted_request_date\n",
      "\n",
      "**Table 5: Warehouse Inventory**\n",
      "Description: This table provides the current inventory levels of parts in different warehouse locations.\n",
      "Columns:\n",
      "- part_id\n",
      "- part_name\n",
      "- location\n",
      "- quantity_available\n",
      "\n",
      "**Table 6: Inventory Transactions**\n",
      "Description: This table records transactions related to inventory movements, including inbound and outbound quantities.\n",
      "Columns:\n",
      "- date\n",
      "- part_id\n",
      "- type\n",
      "- quantity\n",
      "\n",
      "**Table 7: Supplier Information**\n",
      "Description: This table contains information about suppliers, including pricing, lead times, minimum order quantities, and reliability ratings for different parts.\n",
      "Columns:\n",
      "- supplier_id\n",
      "- part_id\n",
      "- price_per_unit\n",
      "- lead_time_days\n",
      "- min_order_qty\n",
      "- reliability_rating\u001b[0m\n",
      "\n",
      "\u001b[1m> Finished chain.\u001b[0m\n"
     ]
    },
    {
     "data": {
      "text/plain": [
       "{'input': 'For each dataframe, give me a short description and a list of the column names. Return in the following format:\\ntable 1: table 1 description\\ncolumns:\\n- column 1\\n- column 2\\n\\ntable 2: table 2 description\\ncolumns:\\n- column 1\\n- column 2\\n\\n...\\n',\n",
       " 'output': 'Based on the provided data, here are the descriptions and column names for each dataframe:\\n\\n**Table 1: Inventory Management**\\nDescription: This table contains information about the minimum stock levels, reorder quantities, and reorder intervals for different parts.\\nColumns:\\n- part_id\\n- min_stock_level\\n- reorder_quantity\\n- reorder_interval_days\\n\\n**Table 2: Part Details**\\nDescription: This table provides detailed information about each part, including its name, type, models it is used in, dimensions, weight, and any related parts.\\nColumns:\\n- part_id\\n- part_name\\n- part_type\\n- used_in_models\\n- dimensions\\n- weight\\n- blocked_parts\\n- successor_parts\\n- comment\\n\\n**Table 3: Purchase Orders**\\nDescription: This table records purchase orders for parts, including order details, supplier information, and delivery status.\\nColumns:\\n- order_id\\n- part_id\\n- quantity_ordered\\n- order_date\\n- expected_delivery_date\\n- supplier_id\\n- status\\n- actual_delivered_at\\n\\n**Table 4: Sales Orders**\\nDescription: This table contains information about sales orders, including the model, version, quantity, order type, and dates related to the order process.\\nColumns:\\n- sales_order_id\\n- model\\n- version\\n- quantity\\n- order_type\\n- requested_date\\n- created_at\\n- accepted_request_date\\n\\n**Table 5: Warehouse Inventory**\\nDescription: This table provides the current inventory levels of parts in different warehouse locations.\\nColumns:\\n- part_id\\n- part_name\\n- location\\n- quantity_available\\n\\n**Table 6: Inventory Transactions**\\nDescription: This table records transactions related to inventory movements, including inbound and outbound quantities.\\nColumns:\\n- date\\n- part_id\\n- type\\n- quantity\\n\\n**Table 7: Supplier Information**\\nDescription: This table contains information about suppliers, including pricing, lead times, minimum order quantities, and reliability ratings for different parts.\\nColumns:\\n- supplier_id\\n- part_id\\n- price_per_unit\\n- lead_time_days\\n- min_order_qty\\n- reliability_rating'}"
      ]
     },
     "execution_count": 25,
     "metadata": {},
     "output_type": "execute_result"
    }
   ],
   "source": [
    "agent = create_pandas_dataframe_agent(\n",
    "    ChatOpenAI(temperature=0, model=\"gpt-4o-2024-08-06\"),\n",
    "    dfs,\n",
    "    verbose=True,\n",
    "    agent_type=AgentType.OPENAI_FUNCTIONS,\n",
    "    allow_dangerous_code=True\n",
    ")\n",
    "\n",
    "agent.invoke(\"For each dataframe, give me a short description and a list of the column names. Return in the following format:\" \\\n",
    "\"\"\"\n",
    "table 1: table 1 description\n",
    "columns:\n",
    "- column 1\n",
    "- column 2\n",
    "\n",
    "table 2: table 2 description\n",
    "columns:\n",
    "- column 1\n",
    "- column 2\n",
    "\n",
    "...\n",
    "\"\"\")"
   ]
  }
 ],
 "metadata": {
  "kernelspec": {
   "display_name": ".venv",
   "language": "python",
   "name": "python3"
  },
  "language_info": {
   "codemirror_mode": {
    "name": "ipython",
    "version": 3
   },
   "file_extension": ".py",
   "mimetype": "text/x-python",
   "name": "python",
   "nbconvert_exporter": "python",
   "pygments_lexer": "ipython3",
   "version": "3.12.4"
  }
 },
 "nbformat": 4,
 "nbformat_minor": 5
}
