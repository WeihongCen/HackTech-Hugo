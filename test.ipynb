{
 "cells": [
  {
   "cell_type": "code",
   "execution_count": 1,
   "id": "b47aec9b",
   "metadata": {},
   "outputs": [
    {
     "data": {
      "text/plain": [
       "True"
      ]
     },
     "execution_count": 1,
     "metadata": {},
     "output_type": "execute_result"
    }
   ],
   "source": [
    "from langchain.agents.agent_types import AgentType\n",
    "from langchain_experimental.agents.agent_toolkits import create_pandas_dataframe_agent\n",
    "from langchain_openai import ChatOpenAI\n",
    "import pandas as pd\n",
    "import dotenv\n",
    "import os\n",
    "dotenv.load_dotenv()"
   ]
  },
  {
   "cell_type": "code",
   "execution_count": 13,
   "metadata": {},
   "outputs": [],
   "source": [
    "folder_path = 'hugo_data_samples'\n",
    "dfs = []\n",
    "for filename in os.listdir(folder_path):\n",
    "    if filename.endswith('.csv'):\n",
    "        file_path = os.path.join(folder_path, filename)\n",
    "        df = pd.read_csv(file_path)\n",
    "        dfs.append(df)"
   ]
  },
  {
   "cell_type": "code",
   "execution_count": 16,
   "id": "5d5a8a05",
   "metadata": {},
   "outputs": [
    {
     "name": "stdout",
     "output_type": "stream",
     "text": [
      "\n",
      "\n",
      "\u001b[1m> Entering new AgentExecutor chain...\u001b[0m\n",
      "\u001b[32;1m\u001b[1;3m\n",
      "Invoking: `python_repl_ast` with `{'query': \"row_counts = {}\\nfor i in range(1, 9):\\n    df = globals()[f'df{i}']\\n    row_counts[f'df{i}'] = len(df)\\nrow_counts\"}`\n",
      "\n",
      "\n",
      "\u001b[0m\u001b[36;1m\u001b[1;3mKeyError: 'df1'\u001b[0m\u001b[32;1m\u001b[1;3m\n",
      "Invoking: `python_repl_ast` with `{'query': \"# Let's try to list all variables to see the available dataframe names\\nlocals().keys()\"}`\n",
      "\n",
      "\n",
      "\u001b[0m\u001b[36;1m\u001b[1;3mdict_keys(['df1', 'df2', 'df3', 'df4', 'df5', 'df6', 'df7', 'df8', 'row_counts', 'i'])\u001b[0m\u001b[32;1m\u001b[1;3m\n",
      "Invoking: `python_repl_ast` with `{'query': \"# Now let's count the rows in each dataframe\\ndf_row_counts = {f'df{i}': len(globals()[f'df{i}']) for i in range(1, 9)}\\ndf_row_counts\"}`\n",
      "\n",
      "\n",
      "\u001b[0m\u001b[36;1m\u001b[1;3mKeyError: 'df1'\u001b[0m\u001b[32;1m\u001b[1;3m\n",
      "Invoking: `python_repl_ast` with `{'query': \"# Use locals() instead of globals() for the dataframe lookup\\ndf_row_counts = {f'df{i}': len(locals()[f'df{i}']) for i in range(1, 9)}\\ndf_row_counts\"}`\n",
      "\n",
      "\n",
      "\u001b[0m\u001b[36;1m\u001b[1;3m{'df1': 39, 'df2': 39, 'df3': 100, 'df4': 200, 'df5': 1, 'df6': 39, 'df7': 123, 'df8': 98}\u001b[0m\u001b[32;1m\u001b[1;3mHere are the number of rows in each dataframe:\n",
      "\n",
      "- df1: 39 rows\n",
      "- df2: 39 rows\n",
      "- df3: 100 rows\n",
      "- df4: 200 rows\n",
      "- df5: 1 row\n",
      "- df6: 39 rows\n",
      "- df7: 123 rows\n",
      "- df8: 98 rows\n",
      "\n",
      "If you need the total or more details, let me know!\u001b[0m\n",
      "\n",
      "\u001b[1m> Finished chain.\u001b[0m\n"
     ]
    },
    {
     "data": {
      "text/plain": [
       "{'input': 'How many rows are there',\n",
       " 'output': 'Here are the number of rows in each dataframe:\\n\\n- df1: 39 rows\\n- df2: 39 rows\\n- df3: 100 rows\\n- df4: 200 rows\\n- df5: 1 row\\n- df6: 39 rows\\n- df7: 123 rows\\n- df8: 98 rows\\n\\nIf you need the total or more details, let me know!'}"
      ]
     },
     "execution_count": 16,
     "metadata": {},
     "output_type": "execute_result"
    }
   ],
   "source": [
    "agent = create_pandas_dataframe_agent(\n",
    "    ChatOpenAI(temperature=0, model=\"gpt-4.1\"),\n",
    "    dfs,\n",
    "    verbose=True,\n",
    "    agent_type=AgentType.OPENAI_FUNCTIONS,\n",
    "    allow_dangerous_code=True\n",
    ")\n",
    "\n",
    "response = agent.invoke(\"How many rows are there\")\n",
    "response"
   ]
  },
  {
   "cell_type": "code",
   "execution_count": 18,
   "id": "16bea4fd",
   "metadata": {},
   "outputs": [
    {
     "name": "stdout",
     "output_type": "stream",
     "text": [
      "Here are the number of rows in each dataframe:\n",
      "\n",
      "- df1: 39 rows\n",
      "- df2: 39 rows\n",
      "- df3: 100 rows\n",
      "- df4: 200 rows\n",
      "- df5: 1 row\n",
      "- df6: 39 rows\n",
      "- df7: 123 rows\n",
      "- df8: 98 rows\n",
      "\n",
      "If you need the total or more details, let me know!\n"
     ]
    }
   ],
   "source": [
    "print(response[\"output\"])"
   ]
  }
 ],
 "metadata": {
  "kernelspec": {
   "display_name": ".venv",
   "language": "python",
   "name": "python3"
  },
  "language_info": {
   "codemirror_mode": {
    "name": "ipython",
    "version": 3
   },
   "file_extension": ".py",
   "mimetype": "text/x-python",
   "name": "python",
   "nbconvert_exporter": "python",
   "pygments_lexer": "ipython3",
   "version": "3.12.4"
  }
 },
 "nbformat": 4,
 "nbformat_minor": 5
}
